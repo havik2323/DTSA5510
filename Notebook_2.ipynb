{
 "cells": [
  {
   "cell_type": "markdown",
   "id": "c1321f09",
   "metadata": {},
   "source": [
    "https://github.com/havik2323/DTSA5510 repo can be found here"
   ]
  },
  {
   "cell_type": "markdown",
   "id": "6002aacf",
   "metadata": {},
   "source": [
    "### 1. Load the movie ratings data (as in the HW3-recommender-system) and use matrix factorization technique(s) and predict the missing ratings from the test data. Measure the RMSE. You should use sklearn library. [10 pts]\n",
    "\n",
    "\n",
    "The below script aims to predict movie ratings using Non-Negative Matrix Factorization (NMF) and evaluate the prediction accuracy by calculating the Root Mean Squared Error (RMSE). Initially, the script loads user, movie, training, and test datasets from CSV files. It ensures that the correct column names are used for pivoting the training data into a user-item matrix, where rows represent users, columns represent movies, and the values are the respective ratings. Missing values are filled with zeros to prepare the matrix for the NMF model.\n",
    "\n",
    "The NMF model is then initialized with a specified number of components (20 in this case) and fitted to the user-item matrix, resulting in two matrices: user features and item features. These matrices are multiplied to obtain the predicted ratings for the entire user-item matrix. The predictions are converted into a DataFrame for easier access and manipulation.\n",
    "\n",
    "To evaluate the model's performance, the script extracts the true ratings from the test dataset and attempts to find corresponding predicted ratings from the predictions DataFrame. If a predicted rating is not available, it handles the missing entries by excluding them. The RMSE is then calculated by comparing the true ratings with the predicted ratings, providing a measure of the prediction accuracy. Finally, the RMSE value is printed indicating the model's performance. A lower RMSE value indicates better predictive performance of the model, meaning the predicted ratings are close to the actual ratings.  A higher RMSE value indicates poorer performance meaning there is a larger discrepancy between the predicted and actual ratings.  In this case, the RMSE was ~2.85 which is a higher RMSE indicating a poorer performance on the test set.  \n",
    "\n",
    "\n",
    "### 2. Discuss the results and why sklearn's non-negative matrix facorization library did not work well compared to simple baseline or similarity-based methods we’ve done in Module 3. Can you suggest a way(s) to fix it? [10 pts]\n",
    "\n",
    "The results of using the sklearn's non-negative matrix factorization (NMF) model to predict movie ratings yielded a high RMSE of 2.85 indicating significantly poor performance compared to the similarity-based methods used in a previous project. Several factors contribute to this outcome. Movie rating datasets are often sparse meaning many users have rated only a few movies, and NMF can struggle with sparse data due to insufficient information to accurately learn underlying user and item features. Additionally, NMF may not handle new users or items well, particularly if they were not well-represented in the training data leading to a cold start problem (cold start refers to, in this case, a situation where we have no data on a user movie preferences so there's nothing to compare against to provide recommendations). The performance of NMF is also sensitive to hyperparameter selection, and the chosen number of components (20) might not be optimal for this dataset. Furthermore, the model might overfit the training data capturing more noise rather than underlying patterns resulting in poor generalization on the test data. Unlike simpler models, NMF's complexity does not necessarily translate to better performance.\n",
    "\n",
    "In contrast, similarity-based methods (i.e. user-user or item-item collaborative filtering) are often more effective in handling sparse datasets as they predict ratings based on the similarity between users or items which can be more robust with limited data points. \n",
    "\n",
    "\n",
    "To improve the NMF model's performance or achieve better results overall, we could leverage several strategies. Experimenting with different numbers of components and other hyperparameters through cross-validation could help identify more optimal settings. Combining NMF with other approaches such as collaborative or content-based filtering could leverage the strengths of different methods for improved accuracy (ensemble technique). Introducing regularization can prevent overfitting and help the model generalize better to unseen data. Incorporating additional features like user demographics, movie genres, or temporal information could provide more context and improve predictions. Increasing the training data by including more ratings or using synthetic data generation techniques could also enhance model performance. Exploring advanced models like neural collaborative filtering (NCF) or autoencoders (a personal favorite), and using ensemble techniques to combine predictions from these multiple models could lead to more robust prediction performance.\n",
    "\n"
   ]
  },
  {
   "cell_type": "code",
   "execution_count": 2,
   "id": "e12d0268",
   "metadata": {},
   "outputs": [
    {
     "name": "stderr",
     "output_type": "stream",
     "text": [
      "/home/bbehe/anaconda3/lib/python3.11/site-packages/pandas/core/arrays/masked.py:60: UserWarning: Pandas requires version '1.3.6' or newer of 'bottleneck' (version '1.3.5' currently installed).\n",
      "  from pandas.core import (\n",
      "/home/bbehe/anaconda3/lib/python3.11/site-packages/sklearn/decomposition/_nmf.py:1665: ConvergenceWarning: Maximum number of iterations 200 reached. Increase it to improve convergence.\n",
      "  warnings.warn(\n"
     ]
    },
    {
     "name": "stdout",
     "output_type": "stream",
     "text": [
      "RMSE: 2.853698227091948\n"
     ]
    }
   ],
   "source": [
    "import pandas as pd\n",
    "import numpy as np\n",
    "from sklearn.decomposition import NMF\n",
    "from sklearn.metrics import mean_squared_error\n",
    "from math import sqrt\n",
    "\n",
    "###Load data\n",
    "MV_users = pd.read_csv('/home/bbehe/Desktop/Coursera/bbc_data/learn-ai-bbc/Files/users.csv')\n",
    "MV_movies = pd.read_csv('/home/bbehe/Desktop/Coursera/bbc_data/learn-ai-bbc/Files/movies.csv')\n",
    "train = pd.read_csv('/home/bbehe/Desktop/Coursera/bbc_data/learn-ai-bbc/Files/train.csv')\n",
    "test = pd.read_csv('/home/bbehe/Desktop/Coursera/bbc_data/learn-ai-bbc/Files/test.csv')\n",
    "\n",
    "###Ensure the correct column names for pivoting\n",
    "user_col = 'uID'\n",
    "movie_col = 'mID'\n",
    "rating_col = 'rating'\n",
    "\n",
    "###Pivot the training data to create a user-item matrix\n",
    "train_pivot = train.pivot(index=user_col, columns=movie_col, values=rating_col).fillna(0)\n",
    "\n",
    "###Initialize NMF model\n",
    "n_components = 20 \n",
    "nmf_model = NMF(n_components=n_components, init='random', random_state=42)\n",
    "\n",
    "###Fit the NMF model\n",
    "user_features = nmf_model.fit_transform(train_pivot)\n",
    "item_features = nmf_model.components_\n",
    "\n",
    "###Predict ratings\n",
    "predicted_ratings = np.dot(user_features, item_features)\n",
    "\n",
    "###Convert the predictions to a DataFrame\n",
    "predicted_ratings_df = pd.DataFrame(predicted_ratings, index=train_pivot.index, columns=train_pivot.columns)\n",
    "\n",
    "###Function to calculate RMSE\n",
    "def calculate_rmse(true_ratings, predicted_ratings):\n",
    "    return sqrt(mean_squared_error(true_ratings, predicted_ratings))\n",
    "\n",
    "###Extract the true ratings from the test set and handle missing entries\n",
    "def get_predicted_rating(row):\n",
    "    try:\n",
    "        return predicted_ratings_df.loc[row[user_col], row[movie_col]]\n",
    "    except KeyError:\n",
    "        return np.nan\n",
    "\n",
    "test['predicted_rating'] = test.apply(get_predicted_rating, axis=1)\n",
    "\n",
    "###Drop rows with missing predicted ratings\n",
    "test = test.dropna(subset=['predicted_rating'])\n",
    "\n",
    "###Calculate RMSE\n",
    "rmse = calculate_rmse(test[rating_col], test['predicted_rating'])\n",
    "print(f\"RMSE: {rmse}\")"
   ]
  },
  {
   "cell_type": "code",
   "execution_count": null,
   "id": "966cbb46",
   "metadata": {},
   "outputs": [],
   "source": []
  }
 ],
 "metadata": {
  "kernelspec": {
   "display_name": "Python 3 (ipykernel)",
   "language": "python",
   "name": "python3"
  },
  "language_info": {
   "codemirror_mode": {
    "name": "ipython",
    "version": 3
   },
   "file_extension": ".py",
   "mimetype": "text/x-python",
   "name": "python",
   "nbconvert_exporter": "python",
   "pygments_lexer": "ipython3",
   "version": "3.11.3"
  }
 },
 "nbformat": 4,
 "nbformat_minor": 5
}
